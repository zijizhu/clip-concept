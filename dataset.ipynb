{
 "cells": [
  {
   "cell_type": "code",
   "execution_count": null,
   "metadata": {},
   "outputs": [],
   "source": [
    "import pandas as pd"
   ]
  },
  {
   "cell_type": "code",
   "execution_count": null,
   "metadata": {},
   "outputs": [],
   "source": [
    "SELECTED_CONCEPTS = [1, 4, 6, 7, 10, 14, 15, 20, 21, 23, 25, 29, 30, 35, 36, 38, 40, 44, 45,\n",
    "                     50, 51, 53, 54, 56, 57, 59, 63, 64, 69, 70, 72, 75, 80, 84, 90, 91, 93,\n",
    "                     99, 101, 106, 110, 111, 116, 117, 119, 125, 126, 131, 132, 134, 145, 149,\n",
    "                     151, 152, 153, 157, 158, 163, 164, 168, 172, 178, 179, 181, 183, 187, 188,\n",
    "                     193, 194, 196, 198, 202, 203, 208, 209, 211, 212, 213, 218, 220, 221, 225,\n",
    "                     235, 236, 238, 239, 240, 242, 243, 244, 249, 253, 254, 259, 260, 262, 268,\n",
    "                     274, 277, 283, 289, 292, 293, 294, 298, 299, 304, 305, 308, 309, 310, 311]\n",
    "\n",
    "# Without shape/size\n",
    "SELECTED_CONCEPTS_V2 = [1, 4, 6, 7, 10, 14, 15, 20, 21, 23, 25, 29, 30, 35, 36, 38, 40, 44, 45,\n",
    "                        50, 51, 53, 54, 56, 57, 59, 63, 64, 69, 70, 72, 75, 80, 84, 90, 91, 93,\n",
    "                        99, 101, 106, 110, 111, 116, 117, 119, 125, 126, 131, 132, 134, 145, 149,\n",
    "                        151, 152, 153, 157, 158, 163, 164, 168, 172, 178, 179, 181, 183, 187, 188,\n",
    "                        193, 194, 196, 198, 202, 203, 208, 209, 211, 212, 213, 236, 238, 239, 240,\n",
    "                        242, 243, 244, 249, 253, 254, 259, 260, 262, 268, 274, 277, 283, 289, 292,\n",
    "                        293, 294, 298, 299, 304, 305, 308, 309, 310, 311]"
   ]
  },
  {
   "cell_type": "code",
   "execution_count": null,
   "metadata": {},
   "outputs": [],
   "source": [
    "attribute_df = pd.read_csv('datasets/CUB/attributes.txt', sep=' ', header=None, names=['attribute_id', 'attribute_name']).drop(columns=['attribute_id'])\n",
    "attribute_df = attribute_df.iloc[SELECTED_CONCEPTS_V2]\n",
    "fine_grained_parts = ['bill', 'upperpart', 'underpart', 'head', 'back', 'beak', 'belly', 'breast',\n",
    "                      'crown', 'eye', 'forehead', 'leg', 'nape', 'tail', 'throat', 'wing', 'primary']\n",
    "coarse_grained_parts = ['head', 'back', 'belly', 'breast', 'leg', 'tail', 'wing']\n",
    "fine2coarse =  {\n",
    "    'bill': 'head',\n",
    "    'upperpart': 'breast',\n",
    "    'underpart': 'belly',\n",
    "    'head': 'head',\n",
    "    'back': 'back',\n",
    "    'beak': 'head',\n",
    "    'belly': 'belly',\n",
    "    'breast': 'breast',\n",
    "    'crown': 'head',\n",
    "    'eye': 'head',\n",
    "    'forehead': 'head',\n",
    "    'leg': 'leg',\n",
    "    'nape': 'back',\n",
    "    'tail': 'tail',\n",
    "    'throat': 'breast',\n",
    "    'wing': 'wing',\n",
    "    'primary': 'breast'\n",
    "}"
   ]
  },
  {
   "cell_type": "code",
   "execution_count": null,
   "metadata": {},
   "outputs": [],
   "source": [
    "part_pattern = '|'.join(fine_grained_parts)\n",
    "attribute_df['part_name'] = attribute_df['attribute_name'].str.extract(f'({part_pattern})')\n",
    "attribute_df['part_name'] = attribute_df['part_name'].replace(fine2coarse)\n",
    "attribute_df['part_id'] = attribute_df['part_name'].map(coarse_grained_parts.index)\n",
    "attribute_df"
   ]
  },
  {
   "cell_type": "code",
   "execution_count": null,
   "metadata": {},
   "outputs": [],
   "source": [
    "attribute_df['part_id'].to_numpy()"
   ]
  },
  {
   "cell_type": "code",
   "execution_count": null,
   "metadata": {},
   "outputs": [],
   "source": [
    "import torch"
   ]
  },
  {
   "cell_type": "code",
   "execution_count": null,
   "metadata": {},
   "outputs": [],
   "source": [
    "16 * 107"
   ]
  },
  {
   "cell_type": "code",
   "execution_count": 1,
   "metadata": {},
   "outputs": [],
   "source": [
    "import os\n",
    "import Augmentor\n",
    "from torch.utils.data import DataLoader\n",
    "import torchvision.transforms as T\n",
    "from data.cub import CUBDatasetSimple\n",
    "\n",
    "p = Augmentor.Pipeline()\n",
    "p.rotate(probability=0.4, max_left_rotation=10, max_right_rotation=10)\n",
    "p.shear(probability=0.4, max_shear_left=10, max_shear_right=10)\n",
    "p.random_distortion(probability=0.4, grid_height=16, grid_width=16, magnitude=8)\n",
    "p.skew(probability=0.4)\n",
    "train_transforms = T.Compose([T.Resize(448), T.CenterCrop(448), p.torch_transform(), T.RandomHorizontalFlip(p=0.4), T.PILToTensor()])\n",
    "test_transforms = T.Compose([T.Resize(448), T.CenterCrop(448), T.PILToTensor()])\n",
    "dataset_train = CUBDatasetSimple(os.path.join('datasets', 'CUB'), split='train', transforms=train_transforms)\n",
    "dataloader_train = DataLoader(dataset=dataset_train, batch_size=4, shuffle=True)\n",
    "dataloader_train_iter = iter(dataloader_train)"
   ]
  },
  {
   "cell_type": "code",
   "execution_count": null,
   "metadata": {},
   "outputs": [],
   "source": [
    "images, class_tgts, attr_tgts, all_class_attrs, attr_group_ids = next(dataloader_train_iter)\n",
    "images.shape, class_tgts.shape, attr_tgts.shape, all_class_attrs.shape, attr_group_ids.shape"
   ]
  },
  {
   "cell_type": "code",
   "execution_count": 2,
   "metadata": {},
   "outputs": [
    {
     "data": {
      "text/plain": [
       "tensor([[ 2.9197, 59.8540,  3.6496,  ...,  5.3571, 21.4286, 19.6429],\n",
       "        [ 4.4118, 57.3529,  0.0000,  ...,  3.8095, 10.4762,  8.5714],\n",
       "        [ 3.9735, 70.8609,  5.2980,  ...,  0.9346,  7.4766, 20.5607],\n",
       "        ...,\n",
       "        [36.7089,  0.6329, 43.6709,  ..., 44.2953, 18.7919, 18.1208],\n",
       "        [ 2.0690,  0.0000, 88.2759,  ..., 34.4828, 33.1034, 20.0000],\n",
       "        [ 8.2803,  0.0000, 82.8025,  ...,  3.0534, 10.6870, 29.7710]],\n",
       "       dtype=torch.float64)"
      ]
     },
     "execution_count": 2,
     "metadata": {},
     "output_type": "execute_result"
    }
   ],
   "source": [
    "dataset_train.attr_class_map"
   ]
  },
  {
   "cell_type": "code",
   "execution_count": null,
   "metadata": {},
   "outputs": [],
   "source": []
  }
 ],
 "metadata": {
  "kernelspec": {
   "display_name": "research",
   "language": "python",
   "name": "python3"
  },
  "language_info": {
   "codemirror_mode": {
    "name": "ipython",
    "version": 3
   },
   "file_extension": ".py",
   "mimetype": "text/x-python",
   "name": "python",
   "nbconvert_exporter": "python",
   "pygments_lexer": "ipython3",
   "version": "3.11.8"
  }
 },
 "nbformat": 4,
 "nbformat_minor": 2
}
