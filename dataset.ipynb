{
 "cells": [
  {
   "cell_type": "code",
   "execution_count": 1,
   "metadata": {},
   "outputs": [],
   "source": [
    "import pandas as pd"
   ]
  },
  {
   "cell_type": "code",
   "execution_count": 2,
   "metadata": {},
   "outputs": [],
   "source": [
    "SELECTED_CONCEPTS = [1, 4, 6, 7, 10, 14, 15, 20, 21, 23, 25, 29, 30, 35, 36, 38, 40, 44, 45,\n",
    "                     50, 51, 53, 54, 56, 57, 59, 63, 64, 69, 70, 72, 75, 80, 84, 90, 91, 93,\n",
    "                     99, 101, 106, 110, 111, 116, 117, 119, 125, 126, 131, 132, 134, 145, 149,\n",
    "                     151, 152, 153, 157, 158, 163, 164, 168, 172, 178, 179, 181, 183, 187, 188,\n",
    "                     193, 194, 196, 198, 202, 203, 208, 209, 211, 212, 213, 218, 220, 221, 225,\n",
    "                     235, 236, 238, 239, 240, 242, 243, 244, 249, 253, 254, 259, 260, 262, 268,\n",
    "                     274, 277, 283, 289, 292, 293, 294, 298, 299, 304, 305, 308, 309, 310, 311]\n",
    "\n",
    "# Without shape/size\n",
    "SELECTED_CONCEPTS_V2 = [1, 4, 6, 7, 10, 14, 15, 20, 21, 23, 25, 29, 30, 35, 36, 38, 40, 44, 45,\n",
    "                        50, 51, 53, 54, 56, 57, 59, 63, 64, 69, 70, 72, 75, 80, 84, 90, 91, 93,\n",
    "                        99, 101, 106, 110, 111, 116, 117, 119, 125, 126, 131, 132, 134, 145, 149,\n",
    "                        151, 152, 153, 157, 158, 163, 164, 168, 172, 178, 179, 181, 183, 187, 188,\n",
    "                        193, 194, 196, 198, 202, 203, 208, 209, 211, 212, 213, 236, 238, 239, 240,\n",
    "                        242, 243, 244, 249, 253, 254, 259, 260, 262, 268, 274, 277, 283, 289, 292,\n",
    "                        293, 294, 298, 299, 304, 305, 308, 309, 310, 311]"
   ]
  },
  {
   "cell_type": "code",
   "execution_count": 3,
   "metadata": {},
   "outputs": [],
   "source": [
    "attribute_df = pd.read_csv('datasets/CUB/attributes.txt', sep=' ', header=None, names=['attribute_id', 'attribute_name']).drop(columns=['attribute_id'])\n",
    "attribute_df = attribute_df.iloc[SELECTED_CONCEPTS_V2]\n",
    "fine_grained_parts = ['bill', 'upperpart', 'underpart', 'head', 'back', 'beak', 'belly', 'breast',\n",
    "                      'crown', 'eye', 'forehead', 'leg', 'nape', 'tail', 'throat', 'wing', 'primary']\n",
    "coarse_grained_parts = ['head', 'back', 'belly', 'breast', 'leg', 'tail', 'wing']\n",
    "fine2coarse =  {\n",
    "    'bill': 'head',\n",
    "    'upperpart': 'breast',\n",
    "    'underpart': 'belly',\n",
    "    'head': 'head',\n",
    "    'back': 'back',\n",
    "    'beak': 'head',\n",
    "    'belly': 'belly',\n",
    "    'breast': 'breast',\n",
    "    'crown': 'head',\n",
    "    'eye': 'head',\n",
    "    'forehead': 'head',\n",
    "    'leg': 'leg',\n",
    "    'nape': 'back',\n",
    "    'tail': 'tail',\n",
    "    'throat': 'breast',\n",
    "    'wing': 'wing',\n",
    "    'primary': 'breast'\n",
    "}"
   ]
  },
  {
   "cell_type": "code",
   "execution_count": 4,
   "metadata": {},
   "outputs": [
    {
     "data": {
      "text/html": [
       "<div>\n",
       "<style scoped>\n",
       "    .dataframe tbody tr th:only-of-type {\n",
       "        vertical-align: middle;\n",
       "    }\n",
       "\n",
       "    .dataframe tbody tr th {\n",
       "        vertical-align: top;\n",
       "    }\n",
       "\n",
       "    .dataframe thead th {\n",
       "        text-align: right;\n",
       "    }\n",
       "</style>\n",
       "<table border=\"1\" class=\"dataframe\">\n",
       "  <thead>\n",
       "    <tr style=\"text-align: right;\">\n",
       "      <th></th>\n",
       "      <th>attribute_name</th>\n",
       "      <th>part_name</th>\n",
       "      <th>part_id</th>\n",
       "    </tr>\n",
       "  </thead>\n",
       "  <tbody>\n",
       "    <tr>\n",
       "      <th>1</th>\n",
       "      <td>has_bill_shape::dagger</td>\n",
       "      <td>head</td>\n",
       "      <td>0</td>\n",
       "    </tr>\n",
       "    <tr>\n",
       "      <th>4</th>\n",
       "      <td>has_bill_shape::hooked_seabird</td>\n",
       "      <td>head</td>\n",
       "      <td>0</td>\n",
       "    </tr>\n",
       "    <tr>\n",
       "      <th>6</th>\n",
       "      <td>has_bill_shape::all-purpose</td>\n",
       "      <td>head</td>\n",
       "      <td>0</td>\n",
       "    </tr>\n",
       "    <tr>\n",
       "      <th>7</th>\n",
       "      <td>has_bill_shape::cone</td>\n",
       "      <td>head</td>\n",
       "      <td>0</td>\n",
       "    </tr>\n",
       "    <tr>\n",
       "      <th>10</th>\n",
       "      <td>has_wing_color::brown</td>\n",
       "      <td>wing</td>\n",
       "      <td>6</td>\n",
       "    </tr>\n",
       "    <tr>\n",
       "      <th>...</th>\n",
       "      <td>...</td>\n",
       "      <td>...</td>\n",
       "      <td>...</td>\n",
       "    </tr>\n",
       "    <tr>\n",
       "      <th>305</th>\n",
       "      <td>has_crown_color::white</td>\n",
       "      <td>head</td>\n",
       "      <td>0</td>\n",
       "    </tr>\n",
       "    <tr>\n",
       "      <th>308</th>\n",
       "      <td>has_wing_pattern::solid</td>\n",
       "      <td>wing</td>\n",
       "      <td>6</td>\n",
       "    </tr>\n",
       "    <tr>\n",
       "      <th>309</th>\n",
       "      <td>has_wing_pattern::spotted</td>\n",
       "      <td>wing</td>\n",
       "      <td>6</td>\n",
       "    </tr>\n",
       "    <tr>\n",
       "      <th>310</th>\n",
       "      <td>has_wing_pattern::striped</td>\n",
       "      <td>wing</td>\n",
       "      <td>6</td>\n",
       "    </tr>\n",
       "    <tr>\n",
       "      <th>311</th>\n",
       "      <td>has_wing_pattern::multi-colored</td>\n",
       "      <td>wing</td>\n",
       "      <td>6</td>\n",
       "    </tr>\n",
       "  </tbody>\n",
       "</table>\n",
       "<p>107 rows × 3 columns</p>\n",
       "</div>"
      ],
      "text/plain": [
       "                      attribute_name part_name  part_id\n",
       "1             has_bill_shape::dagger      head        0\n",
       "4     has_bill_shape::hooked_seabird      head        0\n",
       "6        has_bill_shape::all-purpose      head        0\n",
       "7               has_bill_shape::cone      head        0\n",
       "10             has_wing_color::brown      wing        6\n",
       "..                               ...       ...      ...\n",
       "305           has_crown_color::white      head        0\n",
       "308          has_wing_pattern::solid      wing        6\n",
       "309        has_wing_pattern::spotted      wing        6\n",
       "310        has_wing_pattern::striped      wing        6\n",
       "311  has_wing_pattern::multi-colored      wing        6\n",
       "\n",
       "[107 rows x 3 columns]"
      ]
     },
     "execution_count": 4,
     "metadata": {},
     "output_type": "execute_result"
    }
   ],
   "source": [
    "part_pattern = '|'.join(fine_grained_parts)\n",
    "attribute_df['part_name'] = attribute_df['attribute_name'].str.extract(f'({part_pattern})')\n",
    "attribute_df['part_name'] = attribute_df['part_name'].replace(fine2coarse)\n",
    "attribute_df['part_id'] = attribute_df['part_name'].map(coarse_grained_parts.index)\n",
    "attribute_df"
   ]
  },
  {
   "cell_type": "code",
   "execution_count": null,
   "metadata": {},
   "outputs": [],
   "source": [
    "attribute_df['part_id'].to_numpy()"
   ]
  },
  {
   "cell_type": "code",
   "execution_count": null,
   "metadata": {},
   "outputs": [],
   "source": [
    "import torch"
   ]
  },
  {
   "cell_type": "code",
   "execution_count": null,
   "metadata": {},
   "outputs": [],
   "source": [
    "torch.dot"
   ]
  }
 ],
 "metadata": {
  "kernelspec": {
   "display_name": "research",
   "language": "python",
   "name": "python3"
  },
  "language_info": {
   "codemirror_mode": {
    "name": "ipython",
    "version": 3
   },
   "file_extension": ".py",
   "mimetype": "text/x-python",
   "name": "python",
   "nbconvert_exporter": "python",
   "pygments_lexer": "ipython3",
   "version": "3.11.8"
  }
 },
 "nbformat": 4,
 "nbformat_minor": 2
}
