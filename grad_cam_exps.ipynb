{
 "cells": [
  {
   "cell_type": "code",
   "execution_count": 1,
   "metadata": {},
   "source": [
    "import torch\n",
    "from torch import nn\n",
    "from PIL import Image\n",
    "import torchvision.transforms as T\n",
    "from torchvision.models import resnet50, ResNet50_Weights"
   ],
   "outputs": []
  },
  {
   "cell_type": "code",
   "execution_count": 38,
   "metadata": {},
   "source": [
    "class RN50GradCAM(nn.Module):\n",
    "    def __init__(self) -> None:\n",
    "        super().__init__()\n",
    "\n",
    "        rn50 = resnet50(weights=ResNet50_Weights.DEFAULT)\n",
    "        self.avgpool = rn50.avgpool\n",
    "        self.fc = rn50.fc\n",
    "        rn50.avgpool = nn.Identity()\n",
    "        rn50.fc = nn.Identity()\n",
    "        self.rn50 = rn50\n",
    "        self.gradients = None\n",
    "    \n",
    "    def activations_hook(self, grad):\n",
    "        self.gradients = grad\n",
    "\n",
    "    def forward(self, x: torch.Tensor):\n",
    "        x = self.rn50.conv1(x)\n",
    "        x = self.rn50.bn1(x)\n",
    "        x = self.rn50.relu(x)\n",
    "        x = self.rn50.maxpool(x)\n",
    "\n",
    "        x = self.rn50.layer1(x)\n",
    "        x = self.rn50.layer2(x)\n",
    "        x = self.rn50.layer3(x)\n",
    "        x = self.rn50.layer4(x)\n",
    "\n",
    "        h = x.register_hook(self.activations_hook)\n",
    "\n",
    "        x = self.avgpool(x)\n",
    "        x = torch.flatten(x, 1)\n",
    "        x = self.fc(x)\n",
    "        return x\n",
    "    \n",
    "    def forward_features(self, x: torch.Tensor):\n",
    "        x = self.rn50.conv1(x)\n",
    "        x = self.rn50.bn1(x)\n",
    "        x = self.rn50.relu(x)\n",
    "        x = self.rn50.maxpool(x)\n",
    "\n",
    "        x = self.rn50.layer1(x)\n",
    "        x = self.rn50.layer2(x)\n",
    "        x = self.rn50.layer3(x)\n",
    "        x = self.rn50.layer4(x)\n",
    "        return x"
   ],
   "outputs": []
  },
  {
   "cell_type": "code",
   "execution_count": 39,
   "metadata": {},
   "source": [
    "im = Image.open('shark.webp').convert('RGB')\n",
    "transform = T.Compose([T.Resize((224, 224)),\n",
    "                       T.ToTensor(),\n",
    "                       T.Normalize(mean=[0.485, 0.456, 0.406], std=[0.229, 0.224, 0.225])])\n",
    "x = transform(im).unsqueeze(0)"
   ],
   "outputs": []
  },
  {
   "cell_type": "code",
   "execution_count": 47,
   "metadata": {},
   "source": [
    "net = RN50GradCAM()\n",
    "net.eval()\n",
    "pred = net(x)"
   ],
   "outputs": []
  },
  {
   "cell_type": "code",
   "execution_count": 48,
   "metadata": {},
   "source": [
    "max_logit = torch.max(pred)\n",
    "max_logit.backward()"
   ],
   "outputs": []
  },
  {
   "cell_type": "code",
   "execution_count": 49,
   "metadata": {},
   "source": [
    "torch.argmax(pred)"
   ],
   "outputs": []
  },
  {
   "cell_type": "code",
   "execution_count": 50,
   "metadata": {},
   "source": [
    "grad = net.gradients\n",
    "grad_pooled = torch.mean(grad, dim=(0, 2, 3))\n",
    "activations = net.forward_features(x).detach()"
   ],
   "outputs": []
  },
  {
   "cell_type": "code",
   "execution_count": 51,
   "metadata": {},
   "source": [
    "import numpy as np\n",
    "import matplotlib.pyplot as plt\n",
    "\n",
    "for i in range(activations.shape[1]):\n",
    "    activations[:, i, ...] *= grad_pooled[i]\n",
    "\n",
    "heatmap = torch.mean(activations, dim=1).squeeze().numpy()\n",
    "heatmap = np.maximum(heatmap, 0)\n",
    "heatmap /= np.max(heatmap)\n",
    "\n",
    "plt.imshow(heatmap.squeeze())"
   ],
   "outputs": []
  },
  {
   "cell_type": "code",
   "execution_count": 45,
   "metadata": {},
   "source": [
    "im.resize((224,224))"
   ],
   "outputs": []
  },
  {
   "cell_type": "code",
   "execution_count": null,
   "metadata": {},
   "source": [],
   "outputs": []
  }
 ],
 "metadata": {
  "kernelspec": {
   "display_name": "research",
   "language": "python",
   "name": "python3"
  },
  "language_info": {
   "codemirror_mode": {
    "name": "ipython",
    "version": 3
   },
   "file_extension": ".py",
   "mimetype": "text/x-python",
   "name": "python",
   "nbconvert_exporter": "python",
   "pygments_lexer": "ipython3",
   "version": "3.11.8"
  }
 },
 "nbformat": 4,
 "nbformat_minor": 2
}
