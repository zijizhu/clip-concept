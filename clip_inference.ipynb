{
 "cells": [
  {
   "cell_type": "code",
   "id": "initial_id",
   "metadata": {
    "collapsed": true,
    "ExecuteTime": {
     "end_time": "2024-05-13T09:26:08.032151Z",
     "start_time": "2024-05-13T09:26:08.030326Z"
    }
   },
   "source": [
    "import clip\n",
    "import json\n",
    "import torch\n",
    "import numpy as np\n",
    "from torch import nn\n",
    "from itertools import chain"
   ],
   "outputs": [],
   "execution_count": 5
  },
  {
   "metadata": {
    "ExecuteTime": {
     "end_time": "2024-05-13T09:26:08.411144Z",
     "start_time": "2024-05-13T09:26:08.408252Z"
    }
   },
   "cell_type": "code",
   "source": [
    "with open('datasets/CUB/concepts_generated.json', 'r') as fp:\n",
    "    raw_concepts = json.load(fp)\n",
    "\n",
    "all_concepts = []\n",
    "for class_name, concept_dict in raw_concepts.items():\n",
    "    all_concepts += chain.from_iterable(concept_dict.values())"
   ],
   "id": "aa34478f3af740",
   "outputs": [],
   "execution_count": 6
  },
  {
   "metadata": {
    "ExecuteTime": {
     "end_time": "2024-05-13T09:26:27.356343Z",
     "start_time": "2024-05-13T09:26:27.354117Z"
    }
   },
   "cell_type": "code",
   "source": "len(all_concepts), len(set(all_concepts))",
   "id": "fbe779bb5b53c12d",
   "outputs": [
    {
     "data": {
      "text/plain": [
       "(2273, 1612)"
      ]
     },
     "execution_count": 9,
     "metadata": {},
     "output_type": "execute_result"
    }
   ],
   "execution_count": 9
  },
  {
   "metadata": {
    "ExecuteTime": {
     "end_time": "2024-05-13T09:29:00.467668Z",
     "start_time": "2024-05-13T09:29:00.465520Z"
    }
   },
   "cell_type": "code",
   "source": "all_concepts_sorted = sorted(set(all_concepts))",
   "id": "88d7c5e59fc4e5b9",
   "outputs": [],
   "execution_count": 11
  },
  {
   "metadata": {
    "ExecuteTime": {
     "end_time": "2024-05-13T09:33:26.642441Z",
     "start_time": "2024-05-13T09:33:26.640473Z"
    }
   },
   "cell_type": "code",
   "source": [
    "with open('datasets/CUB/concepts.txt', 'w') as fp:\n",
    "    fp.write('\\n'.join(all_concepts_sorted))"
   ],
   "id": "e1e9d45cd6a0085a",
   "outputs": [],
   "execution_count": 14
  },
  {
   "metadata": {
    "ExecuteTime": {
     "end_time": "2024-05-13T10:02:07.676819Z",
     "start_time": "2024-05-13T10:02:05.954805Z"
    }
   },
   "cell_type": "code",
   "source": [
    "device = torch.device('cuda' if torch.cuda.is_available() else 'cpu')\n",
    "clip_model, clip_preprocess = clip.load('ViT-B/16', device=device)"
   ],
   "id": "a38fbde110aa2d01",
   "outputs": [],
   "execution_count": 17
  },
  {
   "metadata": {
    "ExecuteTime": {
     "end_time": "2024-05-13T10:02:08.465673Z",
     "start_time": "2024-05-13T10:02:08.463469Z"
    }
   },
   "cell_type": "code",
   "source": "clip_preprocess",
   "id": "f215629897805845",
   "outputs": [
    {
     "data": {
      "text/plain": [
       "Compose(\n",
       "    Resize(size=224, interpolation=bicubic, max_size=None, antialias=True)\n",
       "    CenterCrop(size=(224, 224))\n",
       "    <function _convert_image_to_rgb at 0x16e3e2700>\n",
       "    ToTensor()\n",
       "    Normalize(mean=(0.48145466, 0.4578275, 0.40821073), std=(0.26862954, 0.26130258, 0.27577711))\n",
       ")"
      ]
     },
     "execution_count": 18,
     "metadata": {},
     "output_type": "execute_result"
    }
   ],
   "execution_count": 18
  },
  {
   "metadata": {
    "ExecuteTime": {
     "end_time": "2024-05-13T10:22:49.238805Z",
     "start_time": "2024-05-13T10:22:49.197540Z"
    }
   },
   "cell_type": "code",
   "source": [
    "import os\n",
    "import torch.nn.functional as f\n",
    "from data.cub.cub_dataset import CUBDataset\n",
    "from torch.utils.data import DataLoader\n",
    "\n",
    "dataset_train = CUBDataset(os.path.join('datasets', 'CUB'), num_attrs=312,\n",
    "                           split='train', transforms=clip_preprocess)\n",
    "dataset_val = CUBDataset(os.path.join('datasets', 'CUB'), num_attrs=312,\n",
    "                         split='val', transforms=clip_preprocess)\n",
    "dataloader_train = DataLoader(dataset=dataset_train, batch_size=4,\n",
    "                              shuffle=False, num_workers=8)\n",
    "dataloader_val = DataLoader(dataset=dataset_val, batch_size=4,\n",
    "                            shuffle=False, num_workers=8)"
   ],
   "id": "5975c16d1dcba43a",
   "outputs": [],
   "execution_count": 27
  },
  {
   "metadata": {
    "ExecuteTime": {
     "end_time": "2024-05-13T10:21:50.455602Z",
     "start_time": "2024-05-13T10:21:50.406734Z"
    }
   },
   "cell_type": "code",
   "source": [
    "with open('datasets/CUB/concepts.txt', 'r') as fp:\n",
    "    concepts = fp.read().splitlines()\n",
    "concepts_tokenized = clip.tokenize(concepts)\n",
    "concepts_tokenized.shape"
   ],
   "id": "b455170d7b89a872",
   "outputs": [
    {
     "data": {
      "text/plain": [
       "torch.Size([1612, 77])"
      ]
     },
     "execution_count": 26,
     "metadata": {},
     "output_type": "execute_result"
    }
   ],
   "execution_count": 26
  },
  {
   "metadata": {
    "ExecuteTime": {
     "end_time": "2024-05-13T10:25:31.407260Z",
     "start_time": "2024-05-13T10:24:34.894099Z"
    }
   },
   "cell_type": "code",
   "source": [
    "with torch.no_grad():\n",
    "    text_features = clip_model.encode_text(concepts_tokenized)\n",
    "    text_features_norm = f.normalize(text_features, dim=-1)\n",
    "    all_similarities = []\n",
    "    class_ids = []\n",
    "    all_image_features = []\n",
    "    for i, batch in enumerate(dataloader_val):\n",
    "        image_features = clip_model.encode_image(batch['pixel_values'])\n",
    "        image_features_norm = f.normalize(image_features, dim=-1)\n",
    "        similarities = image_features_norm @ text_features_norm.T\n",
    "        \n",
    "        all_image_features.append(image_features_norm)\n",
    "        all_similarities.append(similarities)\n",
    "        class_ids.append(batch['class_ids'])\n",
    "        if i == 2:\n",
    "            break"
   ],
   "id": "40e960fa56170383",
   "outputs": [],
   "execution_count": 28
  },
  {
   "metadata": {
    "ExecuteTime": {
     "end_time": "2024-05-13T10:26:13.078778Z",
     "start_time": "2024-05-13T10:26:13.075889Z"
    }
   },
   "cell_type": "code",
   "source": "torch.cat(all_similarities).shape",
   "id": "7da24e17b60ab285",
   "outputs": [
    {
     "data": {
      "text/plain": [
       "torch.Size([12, 1612])"
      ]
     },
     "execution_count": 29,
     "metadata": {},
     "output_type": "execute_result"
    }
   ],
   "execution_count": 29
  },
  {
   "metadata": {
    "ExecuteTime": {
     "end_time": "2024-05-13T10:30:26.224132Z",
     "start_time": "2024-05-13T10:30:26.221253Z"
    }
   },
   "cell_type": "code",
   "source": "batch['class_ids']",
   "id": "854afc547d9591c6",
   "outputs": [
    {
     "data": {
      "text/plain": [
       "tensor([0, 0, 0, 0])"
      ]
     },
     "execution_count": 37,
     "metadata": {},
     "output_type": "execute_result"
    }
   ],
   "execution_count": 37
  },
  {
   "metadata": {
    "ExecuteTime": {
     "end_time": "2024-05-13T10:52:44.831383Z",
     "start_time": "2024-05-13T10:52:44.825Z"
    }
   },
   "cell_type": "code",
   "source": "all_similarities[0].cpu().numpy()",
   "id": "cd3f92012d4c0929",
   "outputs": [
    {
     "data": {
      "text/plain": [
       "array([[0.2154929 , 0.21587837, 0.19058917, ..., 0.19989917, 0.19759679,\n",
       "        0.16969772],\n",
       "       [0.23307317, 0.24768081, 0.2046141 , ..., 0.22584477, 0.21760248,\n",
       "        0.18832101],\n",
       "       [0.24319793, 0.21682146, 0.21479067, ..., 0.2012999 , 0.1935352 ,\n",
       "        0.15541677],\n",
       "       [0.22313201, 0.26847357, 0.20930922, ..., 0.22100756, 0.21872948,\n",
       "        0.19040647]], dtype=float32)"
      ]
     },
     "execution_count": 38,
     "metadata": {},
     "output_type": "execute_result"
    }
   ],
   "execution_count": 38
  }
 ],
 "metadata": {
  "kernelspec": {
   "display_name": "Python 3",
   "language": "python",
   "name": "python3"
  },
  "language_info": {
   "codemirror_mode": {
    "name": "ipython",
    "version": 2
   },
   "file_extension": ".py",
   "mimetype": "text/x-python",
   "name": "python",
   "nbconvert_exporter": "python",
   "pygments_lexer": "ipython2",
   "version": "2.7.6"
  }
 },
 "nbformat": 4,
 "nbformat_minor": 5
}
