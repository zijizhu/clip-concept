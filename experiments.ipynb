{
 "cells": [
  {
   "cell_type": "code",
   "execution_count": 139,
   "metadata": {},
   "source": [
    "import timm\n",
    "import torch\n",
    "from torch import nn\n",
    "import torch.nn.functional as F\n",
    "\n",
    "from apn import APN, decorrelation_loss, compactness_loss\n",
    "\n",
    "%load_ext autoreload\n",
    "%autoreload 2"
   ],
   "outputs": []
  },
  {
   "cell_type": "code",
   "execution_count": 128,
   "metadata": {},
   "source": [
    "net = APN(k=112)\n",
    "x = torch.randn(4, 3, 224, 224)\n",
    "global_logits, local_logits, attn_maps, prototypes, logit_idxs = net(x)\n",
    "global_logits.shape, local_logits.shape, attn_maps.shape, prototypes.shape, logit_idxs.shape"
   ],
   "outputs": []
  },
  {
   "cell_type": "code",
   "execution_count": 129,
   "metadata": {},
   "source": [
    "dummy = torch.zeros(4, 7, 11, 11)\n",
    "dummy[:, :, 3:-3, 3:-3] = 0.5\n",
    "dummy[:, :, 5, 5] = 1\n",
    "\n",
    "\n",
    "max_local_logits = torch.amax(dummy, dim=(-1, -2), keepdim=True)\n",
    "max_logits_coords = torch.nonzero(dummy == max_local_logits)\n",
    "max_logits_coords = max_logits_coords[..., 2:]\n",
    "res = compactness_loss(dummy, max_logits_coords)\n",
    "print(res)\n",
    "\n",
    "dummy = torch.zeros(4, 7, 11, 11)\n",
    "dummy[:, :, 1:-1, 1:-1] = 0.5\n",
    "dummy[:, :, 5, 5] = 1\n",
    "\n",
    "max_local_logits = torch.amax(dummy, dim=(-1, -2), keepdim=True)\n",
    "max_logits_coords = torch.nonzero(dummy == max_local_logits)\n",
    "max_logits_coords = max_logits_coords[..., 2:]\n",
    "res = compactness_loss(dummy, max_logits_coords)\n",
    "print(res)\n",
    "\n",
    "dummy = torch.zeros(4, 7, 11, 11)\n",
    "dummy[:, :, 4:-4, 3:-3] = torch.tensor(0.5)\n",
    "dummy[:, :, 5, 5] = 1\n",
    "\n",
    "max_local_logits = torch.amax(dummy, dim=(-1, -2), keepdim=True)\n",
    "max_logits_coords = torch.nonzero(dummy == max_local_logits)\n",
    "max_logits_coords = max_logits_coords[..., 2:]\n",
    "res = compactness_loss(dummy, max_logits_coords)\n",
    "print(res)"
   ],
   "outputs": []
  },
  {
   "cell_type": "code",
   "execution_count": 163,
   "metadata": {},
   "source": [
    "dummy1 = torch.tensor([0, 1] * 10, dtype=torch.float32)\n",
    "dummy2 = torch.tensor([1, 0] * 10, dtype=torch.float32)\n",
    "dummy = torch.stack([dummy1] * 5 + [dummy2] * 5, dim=0)* 2\n",
    "print(dummy.to(torch.long))\n",
    "decorrelation_loss(dummy, group_idxs=torch.tensor([0,0,0,0,0,1,1,1,1,1]))"
   ],
   "outputs": []
  },
  {
   "cell_type": "code",
   "execution_count": 164,
   "metadata": {},
   "source": [
    "dummy1 = torch.tensor([1] * 4 + [0] * 16, dtype=torch.float32)\n",
    "dummy2 = torch.tensor([0] * 4 + [1] * 4 + [0] * 12, dtype=torch.float32)\n",
    "dummy3 = torch.tensor([0] * 8 + [1] * 4 + [0] * 8, dtype=torch.float32)\n",
    "dummy4 = torch.tensor([0] * 12 + [1] * 4 + [0] * 4, dtype=torch.float32)\n",
    "dummy5 = torch.tensor([0] * 16 + [1] * 4, dtype=torch.float32)\n",
    "dummy = torch.stack([dummy1, dummy2, dummy3, dummy4, dummy5] * 2) * 2\n",
    "print(dummy.to(torch.long))\n",
    "decorrelation_loss(dummy, group_idxs=torch.tensor([0,0,0,0,0,1,1,1,1,1]))"
   ],
   "outputs": []
  },
  {
   "cell_type": "code",
   "execution_count": null,
   "metadata": {},
   "source": [],
   "outputs": []
  }
 ],
 "metadata": {
  "kernelspec": {
   "display_name": "research",
   "language": "python",
   "name": "python3"
  },
  "language_info": {
   "codemirror_mode": {
    "name": "ipython",
    "version": 3
   },
   "file_extension": ".py",
   "mimetype": "text/x-python",
   "name": "python",
   "nbconvert_exporter": "python",
   "pygments_lexer": "ipython3",
   "version": "3.11.8"
  }
 },
 "nbformat": 4,
 "nbformat_minor": 2
}
