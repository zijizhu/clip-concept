{
 "cells": [
  {
   "cell_type": "code",
   "execution_count": 139,
   "metadata": {},
   "outputs": [
    {
     "name": "stdout",
     "output_type": "stream",
     "text": [
      "The autoreload extension is already loaded. To reload it, use:\n",
      "  %reload_ext autoreload\n"
     ]
    }
   ],
   "source": [
    "import timm\n",
    "import torch\n",
    "from torch import nn\n",
    "import torch.nn.functional as F\n",
    "\n",
    "from apn import APN, decorrelation_loss, compactness_loss\n",
    "\n",
    "%load_ext autoreload\n",
    "%autoreload 2"
   ]
  },
  {
   "cell_type": "code",
   "execution_count": 128,
   "metadata": {},
   "outputs": [
    {
     "data": {
      "text/plain": [
       "(torch.Size([4, 112]),\n",
       " torch.Size([4, 112]),\n",
       " torch.Size([4, 112, 7, 7]),\n",
       " torch.Size([112, 2048]),\n",
       " torch.Size([448, 2]))"
      ]
     },
     "execution_count": 128,
     "metadata": {},
     "output_type": "execute_result"
    }
   ],
   "source": [
    "net = APN(k=112)\n",
    "x = torch.randn(4, 3, 224, 224)\n",
    "global_logits, local_logits, attn_maps, prototypes, logit_idxs = net(x)\n",
    "global_logits.shape, local_logits.shape, attn_maps.shape, prototypes.shape, logit_idxs.shape"
   ]
  },
  {
   "cell_type": "code",
   "execution_count": 129,
   "metadata": {},
   "outputs": [
    {
     "name": "stdout",
     "output_type": "stream",
     "text": [
      "tensor(1400.)\n",
      "tensor(15120.)\n",
      "tensor(560.)\n"
     ]
    }
   ],
   "source": [
    "dummy = torch.zeros(4, 7, 11, 11)\n",
    "dummy[:, :, 3:-3, 3:-3] = 0.5\n",
    "dummy[:, :, 5, 5] = 1\n",
    "\n",
    "\n",
    "max_local_logits = torch.amax(dummy, dim=(-1, -2), keepdim=True)\n",
    "max_logits_coords = torch.nonzero(dummy == max_local_logits)\n",
    "max_logits_coords = max_logits_coords[..., 2:]\n",
    "res = compactness_loss(dummy, max_logits_coords)\n",
    "print(res)\n",
    "\n",
    "dummy = torch.zeros(4, 7, 11, 11)\n",
    "dummy[:, :, 1:-1, 1:-1] = 0.5\n",
    "dummy[:, :, 5, 5] = 1\n",
    "\n",
    "max_local_logits = torch.amax(dummy, dim=(-1, -2), keepdim=True)\n",
    "max_logits_coords = torch.nonzero(dummy == max_local_logits)\n",
    "max_logits_coords = max_logits_coords[..., 2:]\n",
    "res = compactness_loss(dummy, max_logits_coords)\n",
    "print(res)\n",
    "\n",
    "dummy = torch.zeros(4, 7, 11, 11)\n",
    "dummy[:, :, 4:-4, 3:-3] = torch.tensor(0.5)\n",
    "dummy[:, :, 5, 5] = 1\n",
    "\n",
    "max_local_logits = torch.amax(dummy, dim=(-1, -2), keepdim=True)\n",
    "max_logits_coords = torch.nonzero(dummy == max_local_logits)\n",
    "max_logits_coords = max_logits_coords[..., 2:]\n",
    "res = compactness_loss(dummy, max_logits_coords)\n",
    "print(res)"
   ]
  },
  {
   "cell_type": "code",
   "execution_count": 163,
   "metadata": {},
   "outputs": [
    {
     "name": "stdout",
     "output_type": "stream",
     "text": [
      "tensor([[0, 2, 0, 2, 0, 2, 0, 2, 0, 2, 0, 2, 0, 2, 0, 2, 0, 2, 0, 2],\n",
      "        [0, 2, 0, 2, 0, 2, 0, 2, 0, 2, 0, 2, 0, 2, 0, 2, 0, 2, 0, 2],\n",
      "        [0, 2, 0, 2, 0, 2, 0, 2, 0, 2, 0, 2, 0, 2, 0, 2, 0, 2, 0, 2],\n",
      "        [0, 2, 0, 2, 0, 2, 0, 2, 0, 2, 0, 2, 0, 2, 0, 2, 0, 2, 0, 2],\n",
      "        [0, 2, 0, 2, 0, 2, 0, 2, 0, 2, 0, 2, 0, 2, 0, 2, 0, 2, 0, 2],\n",
      "        [2, 0, 2, 0, 2, 0, 2, 0, 2, 0, 2, 0, 2, 0, 2, 0, 2, 0, 2, 0],\n",
      "        [2, 0, 2, 0, 2, 0, 2, 0, 2, 0, 2, 0, 2, 0, 2, 0, 2, 0, 2, 0],\n",
      "        [2, 0, 2, 0, 2, 0, 2, 0, 2, 0, 2, 0, 2, 0, 2, 0, 2, 0, 2, 0],\n",
      "        [2, 0, 2, 0, 2, 0, 2, 0, 2, 0, 2, 0, 2, 0, 2, 0, 2, 0, 2, 0],\n",
      "        [2, 0, 2, 0, 2, 0, 2, 0, 2, 0, 2, 0, 2, 0, 2, 0, 2, 0, 2, 0]])\n"
     ]
    },
    {
     "data": {
      "text/plain": [
       "tensor(89.4427)"
      ]
     },
     "execution_count": 163,
     "metadata": {},
     "output_type": "execute_result"
    }
   ],
   "source": [
    "dummy1 = torch.tensor([0, 1] * 10, dtype=torch.float32)\n",
    "dummy2 = torch.tensor([1, 0] * 10, dtype=torch.float32)\n",
    "dummy = torch.stack([dummy1] * 5 + [dummy2] * 5, dim=0)* 2\n",
    "print(dummy.to(torch.long))\n",
    "decorrelation_loss(dummy, group_idxs=torch.tensor([0,0,0,0,0,1,1,1,1,1]))"
   ]
  },
  {
   "cell_type": "code",
   "execution_count": 164,
   "metadata": {},
   "outputs": [
    {
     "name": "stdout",
     "output_type": "stream",
     "text": [
      "tensor([[2, 2, 2, 2, 0, 0, 0, 0, 0, 0, 0, 0, 0, 0, 0, 0, 0, 0, 0, 0],\n",
      "        [0, 0, 0, 0, 2, 2, 2, 2, 0, 0, 0, 0, 0, 0, 0, 0, 0, 0, 0, 0],\n",
      "        [0, 0, 0, 0, 0, 0, 0, 0, 2, 2, 2, 2, 0, 0, 0, 0, 0, 0, 0, 0],\n",
      "        [0, 0, 0, 0, 0, 0, 0, 0, 0, 0, 0, 0, 2, 2, 2, 2, 0, 0, 0, 0],\n",
      "        [0, 0, 0, 0, 0, 0, 0, 0, 0, 0, 0, 0, 0, 0, 0, 0, 2, 2, 2, 2],\n",
      "        [2, 2, 2, 2, 0, 0, 0, 0, 0, 0, 0, 0, 0, 0, 0, 0, 0, 0, 0, 0],\n",
      "        [0, 0, 0, 0, 2, 2, 2, 2, 0, 0, 0, 0, 0, 0, 0, 0, 0, 0, 0, 0],\n",
      "        [0, 0, 0, 0, 0, 0, 0, 0, 2, 2, 2, 2, 0, 0, 0, 0, 0, 0, 0, 0],\n",
      "        [0, 0, 0, 0, 0, 0, 0, 0, 0, 0, 0, 0, 2, 2, 2, 2, 0, 0, 0, 0],\n",
      "        [0, 0, 0, 0, 0, 0, 0, 0, 0, 0, 0, 0, 0, 0, 0, 0, 2, 2, 2, 2]])\n"
     ]
    },
    {
     "data": {
      "text/plain": [
       "tensor(80.)"
      ]
     },
     "execution_count": 164,
     "metadata": {},
     "output_type": "execute_result"
    }
   ],
   "source": [
    "dummy1 = torch.tensor([1] * 4 + [0] * 16, dtype=torch.float32)\n",
    "dummy2 = torch.tensor([0] * 4 + [1] * 4 + [0] * 12, dtype=torch.float32)\n",
    "dummy3 = torch.tensor([0] * 8 + [1] * 4 + [0] * 8, dtype=torch.float32)\n",
    "dummy4 = torch.tensor([0] * 12 + [1] * 4 + [0] * 4, dtype=torch.float32)\n",
    "dummy5 = torch.tensor([0] * 16 + [1] * 4, dtype=torch.float32)\n",
    "dummy = torch.stack([dummy1, dummy2, dummy3, dummy4, dummy5] * 2) * 2\n",
    "print(dummy.to(torch.long))\n",
    "decorrelation_loss(dummy, group_idxs=torch.tensor([0,0,0,0,0,1,1,1,1,1]))"
   ]
  },
  {
   "cell_type": "code",
   "execution_count": null,
   "metadata": {},
   "outputs": [],
   "source": []
  }
 ],
 "metadata": {
  "kernelspec": {
   "display_name": "research",
   "language": "python",
   "name": "python3"
  },
  "language_info": {
   "codemirror_mode": {
    "name": "ipython",
    "version": 3
   },
   "file_extension": ".py",
   "mimetype": "text/x-python",
   "name": "python",
   "nbconvert_exporter": "python",
   "pygments_lexer": "ipython3",
   "version": "3.11.8"
  }
 },
 "nbformat": 4,
 "nbformat_minor": 2
}
