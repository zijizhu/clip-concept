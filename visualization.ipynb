{
 "cells": [
  {
   "cell_type": "code",
   "execution_count": 1,
   "metadata": {},
   "source": [
    "import os\n",
    "import torch\n",
    "from torch import nn\n",
    "import matplotlib.pyplot as plt\n",
    "import torchvision.transforms as T\n",
    "from torch.utils.data import DataLoader\n",
    "\n",
    "from apn import APN\n",
    "from data.cub import CUBDatasetSimple"
   ],
   "outputs": []
  },
  {
   "cell_type": "code",
   "execution_count": 2,
   "metadata": {},
   "source": [
    "test_transforms = T.Compose([\n",
    "    T.Resize(size=448, antialias=True),\n",
    "    T.CenterCrop(size=448),\n",
    "    T.ToTensor()\n",
    "])\n",
    "\n",
    "dataset_val = CUBDatasetSimple(os.path.join('datasets', 'CUB'), split='val', transforms=test_transforms)"
   ],
   "outputs": []
  },
  {
   "cell_type": "code",
   "execution_count": 3,
   "metadata": {},
   "source": [
    "net = APN(attr_class_map=dataset_val.attr_class_map, k=107, attr_groups=dataset_val.attr_groups)\n",
    "state_dict = torch.load('checkpoints/checkpoint.pt', map_location='cpu')\n",
    "net.load_state_dict(state_dict)"
   ],
   "outputs": []
  },
  {
   "cell_type": "code",
   "execution_count": 202,
   "metadata": {},
   "source": [
    "idx = 5540\n",
    "net.eval()\n",
    "with torch.no_grad():\n",
    "    image, class_tgts, attr_tgts = dataset_val[idx]\n",
    "    image = image.unsqueeze(0)\n",
    "    final_logits, local_logits, attn_maps, prototypes, max_logit_coords = net(image)"
   ],
   "outputs": []
  },
  {
   "cell_type": "code",
   "execution_count": 203,
   "metadata": {},
   "source": [
    "class_tgts"
   ],
   "outputs": []
  },
  {
   "cell_type": "code",
   "execution_count": 204,
   "metadata": {},
   "source": [
    "attn_maps.shape"
   ],
   "outputs": []
  },
  {
   "cell_type": "code",
   "execution_count": 205,
   "metadata": {},
   "source": [
    "dataset_val.attribute_df.reset_index(drop=True)"
   ],
   "outputs": []
  },
  {
   "cell_type": "code",
   "execution_count": 206,
   "metadata": {},
   "source": [
    "vals, idxs = torch.topk(dataset_val.attr_class_map[190], k=10)\n",
    "vals, idxs"
   ],
   "outputs": []
  },
  {
   "cell_type": "code",
   "execution_count": 207,
   "metadata": {},
   "source": [
    "torch.max(attn_maps.squeeze())"
   ],
   "outputs": []
  },
  {
   "cell_type": "code",
   "execution_count": 200,
   "metadata": {},
   "source": [
    "dataset_val.attribute_df.reset_index(drop=True).iloc[idxs.numpy()]"
   ],
   "outputs": []
  },
  {
   "cell_type": "code",
   "execution_count": 188,
   "metadata": {},
   "source": [
    "plt.imshow(image.squeeze().permute(1,2,0).numpy())\n",
    "plt.show()"
   ],
   "outputs": []
  },
  {
   "cell_type": "code",
   "execution_count": null,
   "metadata": {},
   "source": [],
   "outputs": []
  }
 ],
 "metadata": {
  "kernelspec": {
   "display_name": "research",
   "language": "python",
   "name": "python3"
  },
  "language_info": {
   "codemirror_mode": {
    "name": "ipython",
    "version": 3
   },
   "file_extension": ".py",
   "mimetype": "text/x-python",
   "name": "python",
   "nbconvert_exporter": "python",
   "pygments_lexer": "ipython3",
   "version": "3.11.8"
  }
 },
 "nbformat": 4,
 "nbformat_minor": 2
}
