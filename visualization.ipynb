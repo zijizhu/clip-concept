{
 "cells": [
  {
   "cell_type": "code",
   "execution_count": 1,
   "metadata": {},
   "source": [
    "import os\n",
    "import torch\n",
    "import numpy as np\n",
    "from torch import nn\n",
    "import torch.nn.functional as F\n",
    "import matplotlib.pyplot as plt\n",
    "import torchvision.transforms as T\n",
    "from torch.utils.data import DataLoader\n",
    "\n",
    "from apn import APN\n",
    "from data.cub.cub_dataset import CUBDataset"
   ],
   "outputs": []
  },
  {
   "cell_type": "markdown",
   "metadata": {},
   "source": [
    "# Load Dataset and `APN` Model"
   ]
  },
  {
   "cell_type": "code",
   "execution_count": 3,
   "metadata": {},
   "source": [
    "test_transforms = T.Compose([\n",
    "    T.Resize(size=448),\n",
    "    T.CenterCrop(size=448),\n",
    "    T.ToTensor()\n",
    "])\n",
    "\n",
    "dataset_val = CUBDataset(os.path.join('datasets', 'CUB'), num_attrs=107, split='val', transforms=test_transforms)\n",
    "dataloader_val = DataLoader(dataset=dataset_val, batch_size=4, shuffle=True, num_workers=8)\n",
    "dataloader_val_iter = iter(dataloader_val)"
   ],
   "outputs": []
  },
  {
   "cell_type": "code",
   "execution_count": 5,
   "metadata": {},
   "source": [
    "backbone_weights = torch.load('checkpoints/resnet101_ft_CUB.pt', map_location='cpu')\n",
    "apn_net = APN(num_classes=200,\n",
    "              num_attrs=107,\n",
    "              class_attr_embs=dataset_val.class_attr_embs,\n",
    "              backbone_name='resnet101',\n",
    "              backbone_weights=backbone_weights,\n",
    "              dist='dot')\n",
    "full_weghts = torch.load('checkpoints/apn_CUB.pt', map_location='cpu')\n",
    "apn_net.load_state_dict(full_weghts)"
   ],
   "outputs": []
  },
  {
   "cell_type": "code",
   "execution_count": 6,
   "metadata": {},
   "source": [
    "apn_net.eval()\n",
    "with torch.no_grad():\n",
    "    batch_dict = next(dataloader_val_iter)\n",
    "    outputs = apn_net(batch_dict)"
   ],
   "outputs": []
  },
  {
   "cell_type": "code",
   "execution_count": 7,
   "metadata": {},
   "source": [
    "list(outputs.keys())"
   ],
   "outputs": []
  },
  {
   "cell_type": "code",
   "execution_count": 26,
   "metadata": {},
   "source": [
    "dataset_val.attribute_df.reset_index(drop=True).iloc[[45,26,92,60,103]]"
   ],
   "outputs": []
  },
  {
   "cell_type": "code",
   "execution_count": 34,
   "metadata": {},
   "source": [
    "dataset_val.attribute_df.reset_index(drop=True).iloc[[50, 11, 26, 22, 86, 17, 84, 71, 40, 51]]"
   ],
   "outputs": []
  },
  {
   "cell_type": "code",
   "execution_count": 38,
   "metadata": {},
   "source": [
    "with open('attrs.txt', 'w') as fp:\n",
    "    dataset_val.attribute_df.to_string(fp)"
   ],
   "outputs": []
  },
  {
   "cell_type": "code",
   "execution_count": 33,
   "metadata": {},
   "source": [
    "torch.topk(batch_dict['attr_scores'][0], 10)"
   ],
   "outputs": []
  },
  {
   "cell_type": "code",
   "execution_count": 22,
   "metadata": {},
   "source": [
    "torch.topk(dataset_val.class_attr_embs[60], 5)"
   ],
   "outputs": []
  },
  {
   "cell_type": "code",
   "execution_count": 32,
   "metadata": {},
   "source": [
    "dataset_val.main_df.iloc[3495]"
   ],
   "outputs": []
  },
  {
   "cell_type": "code",
   "execution_count": 30,
   "metadata": {},
   "source": [
    "batch_dict['image_ids']"
   ],
   "outputs": []
  },
  {
   "cell_type": "code",
   "execution_count": 24,
   "metadata": {},
   "source": [
    "plt.imshow(batch_dict['pixel_values'][0].permute(1,2,0))"
   ],
   "outputs": []
  },
  {
   "cell_type": "code",
   "execution_count": 12,
   "metadata": {},
   "source": [
    "torch.argmax(outputs['class_scores'], dim=-1)"
   ],
   "outputs": []
  },
  {
   "cell_type": "code",
   "execution_count": 13,
   "metadata": {},
   "source": [
    "batch_dict['class_ids']"
   ],
   "outputs": []
  },
  {
   "cell_type": "code",
   "execution_count": 10,
   "metadata": {},
   "source": [
    "outputs['class_scores']"
   ],
   "outputs": []
  },
  {
   "cell_type": "code",
   "execution_count": null,
   "metadata": {},
   "source": [
    "max_attn_values = F.max_pool2d(outputs['attn_maps'], kernel_size=(14, 14))"
   ],
   "outputs": []
  },
  {
   "cell_type": "code",
   "execution_count": null,
   "metadata": {},
   "source": [
    "top_attn_values = torch.topk(max_attn_values.squeeze(), k=5, dim=-1)"
   ],
   "outputs": []
  },
  {
   "cell_type": "code",
   "execution_count": null,
   "metadata": {},
   "source": [
    "plt.imshow(outputs['attn_maps'][0, 10, ...].numpy())\n"
   ],
   "outputs": []
  },
  {
   "cell_type": "code",
   "execution_count": null,
   "metadata": {},
   "source": [
    "torch.max(outputs['attn_maps'][0, 10, ...])"
   ],
   "outputs": []
  },
  {
   "cell_type": "code",
   "execution_count": null,
   "metadata": {},
   "source": [
    "plt.imshow(outputs['attn_maps'][0, 0, ...].numpy())"
   ],
   "outputs": []
  },
  {
   "cell_type": "code",
   "execution_count": null,
   "metadata": {},
   "source": [
    "plt.imshow(batch_dict['pixel_values'][0].permute(1,2,0).numpy())"
   ],
   "outputs": []
  },
  {
   "cell_type": "code",
   "execution_count": null,
   "metadata": {},
   "source": [
    "max_attn_values.squeeze()[0]"
   ],
   "outputs": []
  },
  {
   "cell_type": "code",
   "execution_count": null,
   "metadata": {},
   "source": [
    "dataset_val.attr_class_map[188]"
   ],
   "outputs": []
  },
  {
   "cell_type": "code",
   "execution_count": null,
   "metadata": {},
   "source": [
    "dataset_val.main_df.iloc[11065]['file_path']"
   ],
   "outputs": []
  },
  {
   "cell_type": "code",
   "execution_count": null,
   "metadata": {},
   "source": [
    "dataset_val.attribute_df"
   ],
   "outputs": []
  },
  {
   "cell_type": "code",
   "execution_count": null,
   "metadata": {},
   "source": [
    "torch.topk(dataset_val.attr_class_map[187], k=5)"
   ],
   "outputs": []
  },
  {
   "cell_type": "code",
   "execution_count": null,
   "metadata": {},
   "source": [
    "batch_dict['class_ids']"
   ],
   "outputs": []
  },
  {
   "cell_type": "code",
   "execution_count": null,
   "metadata": {},
   "source": [
    "batch_dict['image_ids']"
   ],
   "outputs": []
  },
  {
   "cell_type": "code",
   "execution_count": null,
   "metadata": {},
   "source": [
    "batch_dict['pixel_values']"
   ],
   "outputs": []
  },
  {
   "cell_type": "code",
   "execution_count": null,
   "metadata": {},
   "source": [
    "normalize = T.Normalize(mean=[0.485, 0.456, 0.406],\n",
    "                                     std=[0.229, 0.224, 0.225])\n",
    "normalize(batch_dict['pixel_values'])"
   ],
   "outputs": []
  }
 ],
 "metadata": {
  "kernelspec": {
   "display_name": "research",
   "language": "python",
   "name": "python3"
  },
  "language_info": {
   "codemirror_mode": {
    "name": "ipython",
    "version": 3
   },
   "file_extension": ".py",
   "mimetype": "text/x-python",
   "name": "python",
   "nbconvert_exporter": "python",
   "pygments_lexer": "ipython3",
   "version": "3.11.8"
  }
 },
 "nbformat": 4,
 "nbformat_minor": 2
}
